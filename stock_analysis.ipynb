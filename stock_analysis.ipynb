{
  "nbformat": 4,
  "nbformat_minor": 0,
  "metadata": {
    "colab": {
      "name": "stock_analysis.ipynb",
      "provenance": [],
      "collapsed_sections": [],
      "authorship_tag": "ABX9TyMrx7pdIjlD4/Vcy2kqy3hJ",
      "include_colab_link": true
    },
    "kernelspec": {
      "name": "python3",
      "display_name": "Python 3"
    }
  },
  "cells": [
    {
      "cell_type": "markdown",
      "metadata": {
        "id": "view-in-github",
        "colab_type": "text"
      },
      "source": [
        "<a href=\"https://colab.research.google.com/github/tszabad/FCC_dataanalytics/blob/master/stock_analysis.ipynb\" target=\"_parent\"><img src=\"https://colab.research.google.com/assets/colab-badge.svg\" alt=\"Open In Colab\"/></a>"
      ]
    },
    {
      "cell_type": "code",
      "metadata": {
        "id": "qrvpay_sMYES"
      },
      "source": [
        "import numpy as np\r\n",
        "import pandas as pd\r\n",
        "import pandas_datareader.data as web\r\n",
        "import matplotlib.pyplot as plt\r\n",
        "import datetime\r\n",
        "%matplotlib inline"
      ],
      "execution_count": 5,
      "outputs": []
    },
    {
      "cell_type": "markdown",
      "metadata": {
        "id": "PEqRVGneNeQL"
      },
      "source": [
        "Getting data"
      ]
    },
    {
      "cell_type": "code",
      "metadata": {
        "id": "elgUP7uoNrY9"
      },
      "source": [
        "start = datetime.datetime(2020,1,1)\r\n",
        "end = datetime.datetime(2021,1,25)\r\n",
        "tesla = web.DataReader('TSLA', \"yahoo\", start, end)\r\n",
        "msft = web.DataReader('MSFT', \"yahoo\", start, end)\r\n",
        "googel = web.DataReader('GOOGL', \"yahoo\", start, end)"
      ],
      "execution_count": 6,
      "outputs": []
    }
  ]
}