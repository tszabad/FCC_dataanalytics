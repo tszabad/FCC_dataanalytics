{
  "nbformat": 4,
  "nbformat_minor": 0,
  "metadata": {
    "colab": {
      "name": "fertility_data.ipynb",
      "provenance": [],
      "authorship_tag": "ABX9TyMmQYd9QLflQ1Uq/rrKP+2H",
      "include_colab_link": true
    },
    "kernelspec": {
      "name": "python3",
      "display_name": "Python 3"
    }
  },
  "cells": [
    {
      "cell_type": "markdown",
      "metadata": {
        "id": "view-in-github",
        "colab_type": "text"
      },
      "source": [
        "<a href=\"https://colab.research.google.com/github/tszabad/FCC_dataanalytics/blob/master/fertility_data.ipynb\" target=\"_parent\"><img src=\"https://colab.research.google.com/assets/colab-badge.svg\" alt=\"Open In Colab\"/></a>"
      ]
    },
    {
      "cell_type": "code",
      "metadata": {
        "colab": {
          "base_uri": "https://localhost:8080/"
        },
        "id": "3T9lETDyePby",
        "outputId": "a81c4933-3d0e-4423-b6aa-4fcb27eda56e"
      },
      "source": [
        "!pip install -q git+https://github.com/tensorflow/docs\r\n",
        "import matplotlib.pyplot as plt\r\n",
        "import numpy as np\r\n",
        "import pandas as pd\r\n",
        "import seaborn as sns\r\n",
        "\r\n",
        "try:\r\n",
        "  # %tensorflow_version only exists in Colab.\r\n",
        "  %tensorflow_version 2.x\r\n",
        "except Exception:\r\n",
        "  pass\r\n",
        "import tensorflow as tf\r\n",
        "\r\n",
        "from tensorflow import keras\r\n",
        "from tensorflow.keras import layers\r\n",
        "\r\n",
        "import tensorflow_docs as tfdocs\r\n",
        "import tensorflow_docs.plots\r\n",
        "import tensorflow_docs.modeling\r\n",
        "\r\n",
        "from IPython.display import clear_output\r\n",
        "\r\n",
        "print(tf.__version__)"
      ],
      "execution_count": 25,
      "outputs": [
        {
          "output_type": "stream",
          "text": [
            "  Building wheel for tensorflow-docs (setup.py) ... \u001b[?25l\u001b[?25hdone\n",
            "2.4.1\n"
          ],
          "name": "stdout"
        }
      ]
    },
    {
      "cell_type": "code",
      "metadata": {
        "colab": {
          "base_uri": "https://localhost:8080/",
          "height": 203
        },
        "id": "vOVIosMEfPrB",
        "outputId": "dac6d209-e764-4060-90fc-02730259bc54"
      },
      "source": [
        "dataset_path = \"/content/fertility_Diagnosis.txt\"\r\n",
        "dataset = pd.read_table(dataset_path, sep=\",\", header=None, names = [\"Season\", \"Age\", \"Disease\", \"Accident\", \"Surgery\", \"Feaver\", \"Alcohol_consumption\", \"Smoking\", \"Siting\", \"Output\"])\r\n",
        "dataset.head()"
      ],
      "execution_count": 84,
      "outputs": [
        {
          "output_type": "execute_result",
          "data": {
            "text/html": [
              "<div>\n",
              "<style scoped>\n",
              "    .dataframe tbody tr th:only-of-type {\n",
              "        vertical-align: middle;\n",
              "    }\n",
              "\n",
              "    .dataframe tbody tr th {\n",
              "        vertical-align: top;\n",
              "    }\n",
              "\n",
              "    .dataframe thead th {\n",
              "        text-align: right;\n",
              "    }\n",
              "</style>\n",
              "<table border=\"1\" class=\"dataframe\">\n",
              "  <thead>\n",
              "    <tr style=\"text-align: right;\">\n",
              "      <th></th>\n",
              "      <th>Season</th>\n",
              "      <th>Age</th>\n",
              "      <th>Disease</th>\n",
              "      <th>Accident</th>\n",
              "      <th>Surgery</th>\n",
              "      <th>Feaver</th>\n",
              "      <th>Alcohol_consumption</th>\n",
              "      <th>Smoking</th>\n",
              "      <th>Siting</th>\n",
              "      <th>Output</th>\n",
              "    </tr>\n",
              "  </thead>\n",
              "  <tbody>\n",
              "    <tr>\n",
              "      <th>0</th>\n",
              "      <td>-0.33</td>\n",
              "      <td>0.69</td>\n",
              "      <td>0</td>\n",
              "      <td>1</td>\n",
              "      <td>1</td>\n",
              "      <td>0</td>\n",
              "      <td>0.8</td>\n",
              "      <td>0</td>\n",
              "      <td>0.88</td>\n",
              "      <td>N</td>\n",
              "    </tr>\n",
              "    <tr>\n",
              "      <th>1</th>\n",
              "      <td>-0.33</td>\n",
              "      <td>0.94</td>\n",
              "      <td>1</td>\n",
              "      <td>0</td>\n",
              "      <td>1</td>\n",
              "      <td>0</td>\n",
              "      <td>0.8</td>\n",
              "      <td>1</td>\n",
              "      <td>0.31</td>\n",
              "      <td>O</td>\n",
              "    </tr>\n",
              "    <tr>\n",
              "      <th>2</th>\n",
              "      <td>-0.33</td>\n",
              "      <td>0.50</td>\n",
              "      <td>1</td>\n",
              "      <td>0</td>\n",
              "      <td>0</td>\n",
              "      <td>0</td>\n",
              "      <td>1.0</td>\n",
              "      <td>-1</td>\n",
              "      <td>0.50</td>\n",
              "      <td>N</td>\n",
              "    </tr>\n",
              "    <tr>\n",
              "      <th>3</th>\n",
              "      <td>-0.33</td>\n",
              "      <td>0.75</td>\n",
              "      <td>0</td>\n",
              "      <td>1</td>\n",
              "      <td>1</td>\n",
              "      <td>0</td>\n",
              "      <td>1.0</td>\n",
              "      <td>-1</td>\n",
              "      <td>0.38</td>\n",
              "      <td>N</td>\n",
              "    </tr>\n",
              "    <tr>\n",
              "      <th>4</th>\n",
              "      <td>-0.33</td>\n",
              "      <td>0.67</td>\n",
              "      <td>1</td>\n",
              "      <td>1</td>\n",
              "      <td>0</td>\n",
              "      <td>0</td>\n",
              "      <td>0.8</td>\n",
              "      <td>-1</td>\n",
              "      <td>0.50</td>\n",
              "      <td>O</td>\n",
              "    </tr>\n",
              "  </tbody>\n",
              "</table>\n",
              "</div>"
            ],
            "text/plain": [
              "   Season   Age  Disease  Accident  ...  Alcohol_consumption  Smoking  Siting  Output\n",
              "0   -0.33  0.69        0         1  ...                  0.8        0    0.88       N\n",
              "1   -0.33  0.94        1         0  ...                  0.8        1    0.31       O\n",
              "2   -0.33  0.50        1         0  ...                  1.0       -1    0.50       N\n",
              "3   -0.33  0.75        0         1  ...                  1.0       -1    0.38       N\n",
              "4   -0.33  0.67        1         1  ...                  0.8       -1    0.50       O\n",
              "\n",
              "[5 rows x 10 columns]"
            ]
          },
          "metadata": {
            "tags": []
          },
          "execution_count": 84
        }
      ]
    },
    {
      "cell_type": "code",
      "metadata": {
        "id": "K58s8LKlhXGN"
      },
      "source": [
        "dataset.isna().sum()\r\n",
        "dataset[\"Output\"] = dataset[\"Output\"].apply(lambda x: 1 if x=='N' else 0 )"
      ],
      "execution_count": 85,
      "outputs": []
    },
    {
      "cell_type": "code",
      "metadata": {
        "id": "6DHFommihokI"
      },
      "source": [
        "train_dataset = dataset.sample(frac=0.8,random_state=0)\r\n",
        "test_dataset = dataset.drop(train_dataset.index)\r\n",
        "\r\n",
        "#sns.pairplot(train_dataset[[\"Season\", \"Age\", \"Disease\", \"Accident\", \"Surgery\", \"Feaver\", \"Alcohol_consumption\", \"Smoking\", \"Siting\", \"Output\"]], diag_kind=\"kde\")"
      ],
      "execution_count": 86,
      "outputs": []
    },
    {
      "cell_type": "code",
      "metadata": {
        "id": "4BbCfw-3jtp2"
      },
      "source": [
        ""
      ],
      "execution_count": 86,
      "outputs": []
    },
    {
      "cell_type": "code",
      "metadata": {
        "id": "hBec6WdmiSvJ"
      },
      "source": [
        "train_labels = train_dataset.pop('Output')\r\n",
        "test_labels = test_dataset.pop('Output')\r\n",
        "\r\n",
        "def build_model():\r\n",
        "  model = keras.Sequential([\r\n",
        "    layers.Dense(64, activation='relu', input_shape=[len(train_dataset.keys())]),\r\n",
        "    layers.Dense(32, activation='relu'),\r\n",
        "    layers.Dense(16, activation='relu'),\r\n",
        "    layers.Dense(1)\r\n",
        "  ])\r\n",
        "\r\n",
        "  optimizer = tf.keras.optimizers.RMSprop(0.001)\r\n",
        "\r\n",
        "  model.compile(loss='mse',\r\n",
        "                optimizer=optimizer,\r\n",
        "                metrics=['mae', 'mse'])\r\n",
        "  return model\r\n",
        "  \r\n",
        "model = build_model()"
      ],
      "execution_count": 87,
      "outputs": []
    },
    {
      "cell_type": "code",
      "metadata": {
        "colab": {
          "base_uri": "https://localhost:8080/"
        },
        "id": "IFWuif2RjR9H",
        "outputId": "ed386766-b585-4732-9b91-5c383968ddc6"
      },
      "source": [
        "EPoCHS = 1000\r\n",
        "early_stop = keras.callbacks.EarlyStopping(monitor='val_loss', patience=500)\r\n",
        "\r\n",
        "early_history = model.fit(train_dataset, train_labels, \r\n",
        "                    epochs=EPOCHS, validation_split = 0.2, verbose=0, \r\n",
        "                    callbacks=[early_stop, tfdocs.modeling.EpochDots()])"
      ],
      "execution_count": 90,
      "outputs": [
        {
          "output_type": "stream",
          "text": [
            "\n",
            "Epoch: 0, loss:0.0003,  mae:0.0102,  mse:0.0003,  val_loss:0.2464,  val_mae:0.3129,  val_mse:0.2464,  \n",
            "....................................................................................................\n",
            "Epoch: 100, loss:0.0002,  mae:0.0090,  mse:0.0002,  val_loss:0.2550,  val_mae:0.3168,  val_mse:0.2550,  \n",
            "....................................................................................................\n",
            "Epoch: 200, loss:0.0015,  mae:0.0344,  mse:0.0015,  val_loss:0.2438,  val_mae:0.3066,  val_mse:0.2438,  \n",
            "....................................................................................................\n",
            "Epoch: 300, loss:0.0019,  mae:0.0320,  mse:0.0019,  val_loss:0.2281,  val_mae:0.3009,  val_mse:0.2281,  \n",
            "....................................................................................................\n",
            "Epoch: 400, loss:0.0001,  mae:0.0071,  mse:0.0001,  val_loss:0.2429,  val_mae:0.3096,  val_mse:0.2429,  \n",
            "....................................................................................................\n",
            "Epoch: 500, loss:0.0001,  mae:0.0097,  mse:0.0001,  val_loss:0.2466,  val_mae:0.3097,  val_mse:0.2466,  \n",
            "....................................................................................................\n",
            "Epoch: 600, loss:0.0045,  mae:0.0561,  mse:0.0045,  val_loss:0.2412,  val_mae:0.3057,  val_mse:0.2412,  \n",
            "....................................................................................................\n",
            "Epoch: 700, loss:0.0001,  mae:0.0089,  mse:0.0001,  val_loss:0.2366,  val_mae:0.3031,  val_mse:0.2366,  \n",
            "....................................................................................................\n",
            "Epoch: 800, loss:0.0009,  mae:0.0243,  mse:0.0009,  val_loss:0.2298,  val_mae:0.3003,  val_mse:0.2298,  \n",
            "....................................................................................................\n",
            "Epoch: 900, loss:0.0011,  mae:0.0308,  mse:0.0011,  val_loss:0.2450,  val_mae:0.3044,  val_mse:0.2450,  \n",
            "...................................................................................................."
          ],
          "name": "stdout"
        }
      ]
    },
    {
      "cell_type": "code",
      "metadata": {
        "colab": {
          "base_uri": "https://localhost:8080/"
        },
        "id": "7kwHSV4uidkt",
        "outputId": "6438042a-5d8c-4d42-ac0f-a06620298660"
      },
      "source": [
        "loss, mae, mse = model.evaluate(test_dataset, test_labels, verbose=2)\r\n",
        "\r\n",
        "print(\"Testing set Mean Abs Error: {:5.2f} output\".format(mae))"
      ],
      "execution_count": 91,
      "outputs": [
        {
          "output_type": "stream",
          "text": [
            "1/1 - 0s - loss: 0.0797 - mae: 0.1521 - mse: 0.0797\n",
            "Testing set Mean Abs Error:  0.15 output\n"
          ],
          "name": "stdout"
        }
      ]
    },
    {
      "cell_type": "code",
      "metadata": {
        "id": "Pp0Q6jMBz317"
      },
      "source": [
        ""
      ],
      "execution_count": null,
      "outputs": []
    },
    {
      "cell_type": "code",
      "metadata": {
        "id": "_Hi0oBV1zdHS"
      },
      "source": [
        "test_predictions = model.predict(test_dataset).flatten()\r\n",
        "\r\n"
      ],
      "execution_count": 92,
      "outputs": []
    },
    {
      "cell_type": "code",
      "metadata": {
        "colab": {
          "base_uri": "https://localhost:8080/"
        },
        "id": "XURYmB_Z0LgS",
        "outputId": "815a96ea-4b77-4fe5-b17b-e86e83371ee2"
      },
      "source": [
        "test_predictions = pd.Series(test_predictions)\r\n",
        "for i in range(20):\r\n",
        "\r\n",
        "  print(test_predictions.iloc[i])\r\n",
        "  print(test_labels.iloc[i])"
      ],
      "execution_count": 93,
      "outputs": [
        {
          "output_type": "stream",
          "text": [
            "0.9939388\n",
            "1\n",
            "0.9309174\n",
            "1\n",
            "0.7472839\n",
            "1\n",
            "1.0069155\n",
            "1\n",
            "1.0274317\n",
            "1\n",
            "0.9959697\n",
            "1\n",
            "0.9945885\n",
            "1\n",
            "1.1117132\n",
            "1\n",
            "1.0426655\n",
            "1\n",
            "0.99596703\n",
            "1\n",
            "0.95502114\n",
            "1\n",
            "1.0174724\n",
            "1\n",
            "0.745023\n",
            "1\n",
            "1.1066084\n",
            "1\n",
            "1.011195\n",
            "0\n",
            "1.1459227\n",
            "1\n",
            "1.0735147\n",
            "1\n",
            "1.2380321\n",
            "1\n",
            "1.0515572\n",
            "1\n",
            "0.43165612\n",
            "1\n"
          ],
          "name": "stdout"
        }
      ]
    },
    {
      "cell_type": "code",
      "metadata": {
        "colab": {
          "base_uri": "https://localhost:8080/",
          "height": 283
        },
        "id": "mz5XXV_r377r",
        "outputId": "95030c18-2e68-4319-f8a3-c9de229b66f5"
      },
      "source": [
        "a = plt.axes(aspect='equal')\r\n",
        "plt.scatter(test_labels, test_predictions)\r\n",
        "plt.xlabel('True values (output)')\r\n",
        "plt.ylabel('Predictions (output)')\r\n",
        "lims = [0, 2]\r\n",
        "plt.xlim(lims)\r\n",
        "plt.ylim(lims)\r\n",
        "_ = plt.plot(lims,lims)"
      ],
      "execution_count": 94,
      "outputs": [
        {
          "output_type": "display_data",
          "data": {
            "image/png": "[encoded data removed]",
            "text/plain": [
              "<Figure size 432x288 with 1 Axes>"
            ]
          },
          "metadata": {
            "tags": [],
            "needs_background": "light"
          }
        }
      ]
    }
  ]
}