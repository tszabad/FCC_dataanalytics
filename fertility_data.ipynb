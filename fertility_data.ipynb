{
  "nbformat": 4,
  "nbformat_minor": 0,
  "metadata": {
    "colab": {
      "name": "fertility_data.ipynb",
      "provenance": [],
      "authorship_tag": "ABX9TyM0ISzubdUzyHFSKLL5+sO8",
      "include_colab_link": true
    },
    "kernelspec": {
      "name": "python3",
      "display_name": "Python 3"
    }
  },
  "cells": [
    {
      "cell_type": "markdown",
      "metadata": {
        "id": "view-in-github",
        "colab_type": "text"
      },
      "source": [
        "<a href=\"https://colab.research.google.com/github/tszabad/FCC_dataanalytics/blob/master/fertility_data.ipynb\" target=\"_parent\"><img src=\"https://colab.research.google.com/assets/colab-badge.svg\" alt=\"Open In Colab\"/></a>"
      ]
    },
    {
      "cell_type": "code",
      "metadata": {
        "colab": {
          "base_uri": "https://localhost:8080/"
        },
        "id": "3T9lETDyePby",
        "outputId": "3d22d615-bb79-4518-e440-8b5efb747213"
      },
      "source": [
        "!pip install -q git+https://github.com/tensorflow/docs\r\n",
        "import matplotlib.pyplot as plt\r\n",
        "import numpy as np\r\n",
        "import pandas as pd\r\n",
        "import seaborn as sns\r\n",
        "\r\n",
        "try:\r\n",
        "  # %tensorflow_version only exists in Colab.\r\n",
        "  %tensorflow_version 2.x\r\n",
        "except Exception:\r\n",
        "  pass\r\n",
        "import tensorflow as tf\r\n",
        "\r\n",
        "from tensorflow import keras\r\n",
        "from tensorflow.keras import layers\r\n",
        "\r\n",
        "import tensorflow_docs as tfdocs\r\n",
        "import tensorflow_docs.plots\r\n",
        "import tensorflow_docs.modeling\r\n",
        "\r\n",
        "from IPython.display import clear_output\r\n",
        "\r\n",
        "print(tf.__version__)"
      ],
      "execution_count": null,
      "outputs": [
        {
          "output_type": "stream",
          "text": [
            "\u001b[?25l\r\u001b[K     |▎                               | 10kB 17.5MB/s eta 0:00:01\r\u001b[K     |▋                               | 20kB 23.4MB/s eta 0:00:01\r\u001b[K     |█                               | 30kB 10.5MB/s eta 0:00:01\r\u001b[K     |█▎                              | 40kB 8.6MB/s eta 0:00:01\r\u001b[K     |█▋                              | 51kB 4.3MB/s eta 0:00:01\r\u001b[K     |██                              | 61kB 4.7MB/s eta 0:00:01\r\u001b[K     |██▎                             | 71kB 4.8MB/s eta 0:00:01\r\u001b[K     |██▋                             | 81kB 5.2MB/s eta 0:00:01\r\u001b[K     |██▉                             | 92kB 5.2MB/s eta 0:00:01\r\u001b[K     |███▏                            | 102kB 4.1MB/s eta 0:00:01\r\u001b[K     |███▌                            | 112kB 4.1MB/s eta 0:00:01\r\u001b[K     |███▉                            | 122kB 4.1MB/s eta 0:00:01\r\u001b[K     |████▏                           | 133kB 4.1MB/s eta 0:00:01\r\u001b[K     |████▌                           | 143kB 4.1MB/s eta 0:00:01\r\u001b[K     |████▉                           | 153kB 4.1MB/s eta 0:00:01\r\u001b[K     |█████▏                          | 163kB 4.1MB/s eta 0:00:01\r\u001b[K     |█████▌                          | 174kB 4.1MB/s eta 0:00:01\r\u001b[K     |█████▊                          | 184kB 4.1MB/s eta 0:00:01\r\u001b[K     |██████                          | 194kB 4.1MB/s eta 0:00:01\r\u001b[K     |██████▍                         | 204kB 4.1MB/s eta 0:00:01\r\u001b[K     |██████▊                         | 215kB 4.1MB/s eta 0:00:01\r\u001b[K     |███████                         | 225kB 4.1MB/s eta 0:00:01\r\u001b[K     |███████▍                        | 235kB 4.1MB/s eta 0:00:01\r\u001b[K     |███████▊                        | 245kB 4.1MB/s eta 0:00:01\r\u001b[K     |████████                        | 256kB 4.1MB/s eta 0:00:01\r\u001b[K     |████████▍                       | 266kB 4.1MB/s eta 0:00:01\r\u001b[K     |████████▋                       | 276kB 4.1MB/s eta 0:00:01\r\u001b[K     |█████████                       | 286kB 4.1MB/s eta 0:00:01\r\u001b[K     |█████████▎                      | 296kB 4.1MB/s eta 0:00:01\r\u001b[K     |█████████▋                      | 307kB 4.1MB/s eta 0:00:01\r\u001b[K     |██████████                      | 317kB 4.1MB/s eta 0:00:01\r\u001b[K     |██████████▎                     | 327kB 4.1MB/s eta 0:00:01\r\u001b[K     |██████████▋                     | 337kB 4.1MB/s eta 0:00:01\r\u001b[K     |███████████                     | 348kB 4.1MB/s eta 0:00:01\r\u001b[K     |███████████▎                    | 358kB 4.1MB/s eta 0:00:01\r\u001b[K     |███████████▌                    | 368kB 4.1MB/s eta 0:00:01\r\u001b[K     |███████████▉                    | 378kB 4.1MB/s eta 0:00:01\r\u001b[K     |████████████▏                   | 389kB 4.1MB/s eta 0:00:01\r\u001b[K     |████████████▌                   | 399kB 4.1MB/s eta 0:00:01\r\u001b[K     |████████████▉                   | 409kB 4.1MB/s eta 0:00:01\r\u001b[K     |█████████████▏                  | 419kB 4.1MB/s eta 0:00:01\r\u001b[K     |█████████████▌                  | 430kB 4.1MB/s eta 0:00:01\r\u001b[K     |█████████████▉                  | 440kB 4.1MB/s eta 0:00:01\r\u001b[K     |██████████████▏                 | 450kB 4.1MB/s eta 0:00:01\r\u001b[K     |██████████████▍                 | 460kB 4.1MB/s eta 0:00:01\r\u001b[K     |██████████████▊                 | 471kB 4.1MB/s eta 0:00:01\r\u001b[K     |███████████████                 | 481kB 4.1MB/s eta 0:00:01\r\u001b[K     |███████████████▍                | 491kB 4.1MB/s eta 0:00:01\r\u001b[K     |███████████████▊                | 501kB 4.1MB/s eta 0:00:01\r\u001b[K     |████████████████                | 512kB 4.1MB/s eta 0:00:01\r\u001b[K     |████████████████▍               | 522kB 4.1MB/s eta 0:00:01\r\u001b[K     |████████████████▊               | 532kB 4.1MB/s eta 0:00:01\r\u001b[K     |█████████████████               | 542kB 4.1MB/s eta 0:00:01\r\u001b[K     |█████████████████▎              | 552kB 4.1MB/s eta 0:00:01\r\u001b[K     |█████████████████▋              | 563kB 4.1MB/s eta 0:00:01\r\u001b[K     |██████████████████              | 573kB 4.1MB/s eta 0:00:01\r\u001b[K     |██████████████████▎             | 583kB 4.1MB/s eta 0:00:01\r\u001b[K     |██████████████████▋             | 593kB 4.1MB/s eta 0:00:01\r\u001b[K     |███████████████████             | 604kB 4.1MB/s eta 0:00:01\r\u001b[K     |███████████████████▎            | 614kB 4.1MB/s eta 0:00:01\r\u001b[K     |███████████████████▋            | 624kB 4.1MB/s eta 0:00:01\r\u001b[K     |████████████████████            | 634kB 4.1MB/s eta 0:00:01\r\u001b[K     |████████████████████▏           | 645kB 4.1MB/s eta 0:00:01\r\u001b[K     |████████████████████▌           | 655kB 4.1MB/s eta 0:00:01\r\u001b[K     |████████████████████▉           | 665kB 4.1MB/s eta 0:00:01\r\u001b[K     |█████████████████████▏          | 675kB 4.1MB/s eta 0:00:01\r\u001b[K     |█████████████████████▌          | 686kB 4.1MB/s eta 0:00:01\r\u001b[K     |█████████████████████▉          | 696kB 4.1MB/s eta 0:00:01\r\u001b[K     |██████████████████████▏         | 706kB 4.1MB/s eta 0:00:01\r\u001b[K     |██████████████████████▌         | 716kB 4.1MB/s eta 0:00:01\r\u001b[K     |██████████████████████▉         | 727kB 4.1MB/s eta 0:00:01\r\u001b[K     |███████████████████████         | 737kB 4.1MB/s eta 0:00:01\r\u001b[K     |███████████████████████▍        | 747kB 4.1MB/s eta 0:00:01\r\u001b[K     |███████████████████████▊        | 757kB 4.1MB/s eta 0:00:01\r\u001b[K     |████████████████████████        | 768kB 4.1MB/s eta 0:00:01\r\u001b[K     |████████████████████████▍       | 778kB 4.1MB/s eta 0:00:01\r\u001b[K     |████████████████████████▊       | 788kB 4.1MB/s eta 0:00:01\r\u001b[K     |█████████████████████████       | 798kB 4.1MB/s eta 0:00:01\r\u001b[K     |█████████████████████████▍      | 808kB 4.1MB/s eta 0:00:01\r\u001b[K     |█████████████████████████▊      | 819kB 4.1MB/s eta 0:00:01\r\u001b[K     |██████████████████████████      | 829kB 4.1MB/s eta 0:00:01\r\u001b[K     |██████████████████████████▎     | 839kB 4.1MB/s eta 0:00:01\r\u001b[K     |██████████████████████████▋     | 849kB 4.1MB/s eta 0:00:01\r\u001b[K     |███████████████████████████     | 860kB 4.1MB/s eta 0:00:01\r\u001b[K     |███████████████████████████▎    | 870kB 4.1MB/s eta 0:00:01\r\u001b[K     |███████████████████████████▋    | 880kB 4.1MB/s eta 0:00:01\r\u001b[K     |████████████████████████████    | 890kB 4.1MB/s eta 0:00:01\r\u001b[K     |████████████████████████████▎   | 901kB 4.1MB/s eta 0:00:01\r\u001b[K     |████████████████████████████▋   | 911kB 4.1MB/s eta 0:00:01\r\u001b[K     |████████████████████████████▉   | 921kB 4.1MB/s eta 0:00:01\r\u001b[K     |█████████████████████████████▏  | 931kB 4.1MB/s eta 0:00:01\r\u001b[K     |█████████████████████████████▌  | 942kB 4.1MB/s eta 0:00:01\r\u001b[K     |█████████████████████████████▉  | 952kB 4.1MB/s eta 0:00:01\r\u001b[K     |██████████████████████████████▏ | 962kB 4.1MB/s eta 0:00:01\r\u001b[K     |██████████████████████████████▌ | 972kB 4.1MB/s eta 0:00:01\r\u001b[K     |██████████████████████████████▉ | 983kB 4.1MB/s eta 0:00:01\r\u001b[K     |███████████████████████████████▏| 993kB 4.1MB/s eta 0:00:01\r\u001b[K     |███████████████████████████████▌| 1.0MB 4.1MB/s eta 0:00:01\r\u001b[K     |███████████████████████████████▊| 1.0MB 4.1MB/s eta 0:00:01\r\u001b[K     |████████████████████████████████| 1.0MB 4.1MB/s \n",
            "\u001b[?25h  Building wheel for tensorflow-docs (setup.py) ... \u001b[?25l\u001b[?25hdone\n",
            "2.4.1\n"
          ],
          "name": "stdout"
        }
      ]
    },
    {
      "cell_type": "code",
      "metadata": {
        "colab": {
          "base_uri": "https://localhost:8080/",
          "height": 203
        },
        "id": "vOVIosMEfPrB",
        "outputId": "d0e164b1-7e5f-4bf9-b8b5-f7eda110ea24"
      },
      "source": [
        "dataset_path = \"/content/fertility_Diagnosis.txt\"\r\n",
        "dataset = pd.read_table(dataset_path, sep=\",\", header=None, names = [\"Season\", \"Age\", \"Disease\", \"Accident\", \"Surgery\", \"Feaver\", \"Alcohol_consumption\", \"Smoking\", \"Siting\", \"Output\"])\r\n",
        "dataset[\"Output\"] = dataset[\"Output\"].apply(lambda x: 1 if x=='N' else 0 )\r\n",
        "dataset.head()"
      ],
      "execution_count": 85,
      "outputs": [
        {
          "output_type": "execute_result",
          "data": {
            "text/html": [
              "<div>\n",
              "<style scoped>\n",
              "    .dataframe tbody tr th:only-of-type {\n",
              "        vertical-align: middle;\n",
              "    }\n",
              "\n",
              "    .dataframe tbody tr th {\n",
              "        vertical-align: top;\n",
              "    }\n",
              "\n",
              "    .dataframe thead th {\n",
              "        text-align: right;\n",
              "    }\n",
              "</style>\n",
              "<table border=\"1\" class=\"dataframe\">\n",
              "  <thead>\n",
              "    <tr style=\"text-align: right;\">\n",
              "      <th></th>\n",
              "      <th>Season</th>\n",
              "      <th>Age</th>\n",
              "      <th>Disease</th>\n",
              "      <th>Accident</th>\n",
              "      <th>Surgery</th>\n",
              "      <th>Feaver</th>\n",
              "      <th>Alcohol_consumption</th>\n",
              "      <th>Smoking</th>\n",
              "      <th>Siting</th>\n",
              "      <th>Output</th>\n",
              "    </tr>\n",
              "  </thead>\n",
              "  <tbody>\n",
              "    <tr>\n",
              "      <th>0</th>\n",
              "      <td>-0.33</td>\n",
              "      <td>0.69</td>\n",
              "      <td>0</td>\n",
              "      <td>1</td>\n",
              "      <td>1</td>\n",
              "      <td>0</td>\n",
              "      <td>0.8</td>\n",
              "      <td>0</td>\n",
              "      <td>0.88</td>\n",
              "      <td>1</td>\n",
              "    </tr>\n",
              "    <tr>\n",
              "      <th>1</th>\n",
              "      <td>-0.33</td>\n",
              "      <td>0.94</td>\n",
              "      <td>1</td>\n",
              "      <td>0</td>\n",
              "      <td>1</td>\n",
              "      <td>0</td>\n",
              "      <td>0.8</td>\n",
              "      <td>1</td>\n",
              "      <td>0.31</td>\n",
              "      <td>0</td>\n",
              "    </tr>\n",
              "    <tr>\n",
              "      <th>2</th>\n",
              "      <td>-0.33</td>\n",
              "      <td>0.50</td>\n",
              "      <td>1</td>\n",
              "      <td>0</td>\n",
              "      <td>0</td>\n",
              "      <td>0</td>\n",
              "      <td>1.0</td>\n",
              "      <td>-1</td>\n",
              "      <td>0.50</td>\n",
              "      <td>1</td>\n",
              "    </tr>\n",
              "    <tr>\n",
              "      <th>3</th>\n",
              "      <td>-0.33</td>\n",
              "      <td>0.75</td>\n",
              "      <td>0</td>\n",
              "      <td>1</td>\n",
              "      <td>1</td>\n",
              "      <td>0</td>\n",
              "      <td>1.0</td>\n",
              "      <td>-1</td>\n",
              "      <td>0.38</td>\n",
              "      <td>1</td>\n",
              "    </tr>\n",
              "    <tr>\n",
              "      <th>4</th>\n",
              "      <td>-0.33</td>\n",
              "      <td>0.67</td>\n",
              "      <td>1</td>\n",
              "      <td>1</td>\n",
              "      <td>0</td>\n",
              "      <td>0</td>\n",
              "      <td>0.8</td>\n",
              "      <td>-1</td>\n",
              "      <td>0.50</td>\n",
              "      <td>0</td>\n",
              "    </tr>\n",
              "  </tbody>\n",
              "</table>\n",
              "</div>"
            ],
            "text/plain": [
              "   Season   Age  Disease  ...  Smoking  Siting  Output\n",
              "0   -0.33  0.69        0  ...        0    0.88       1\n",
              "1   -0.33  0.94        1  ...        1    0.31       0\n",
              "2   -0.33  0.50        1  ...       -1    0.50       1\n",
              "3   -0.33  0.75        0  ...       -1    0.38       1\n",
              "4   -0.33  0.67        1  ...       -1    0.50       0\n",
              "\n",
              "[5 rows x 10 columns]"
            ]
          },
          "metadata": {
            "tags": []
          },
          "execution_count": 85
        }
      ]
    },
    {
      "cell_type": "code",
      "metadata": {
        "id": "K58s8LKlhXGN",
        "colab": {
          "base_uri": "https://localhost:8080/"
        },
        "outputId": "b92b4a9b-b425-496d-db5f-5067dc3caab2"
      },
      "source": [
        "dataset.isna().sum()\r\n"
      ],
      "execution_count": 86,
      "outputs": [
        {
          "output_type": "execute_result",
          "data": {
            "text/plain": [
              "Season                 0\n",
              "Age                    0\n",
              "Disease                0\n",
              "Accident               0\n",
              "Surgery                0\n",
              "Feaver                 0\n",
              "Alcohol_consumption    0\n",
              "Smoking                0\n",
              "Siting                 0\n",
              "Output                 0\n",
              "dtype: int64"
            ]
          },
          "metadata": {
            "tags": []
          },
          "execution_count": 86
        }
      ]
    },
    {
      "cell_type": "code",
      "metadata": {
        "id": "6DHFommihokI"
      },
      "source": [
        "train_dataset = dataset.sample(frac=0.8,random_state=0)\r\n",
        "test_dataset = dataset.drop(train_dataset.index)\r\n",
        "\r\n",
        "#sns.pairplot(train_dataset[[\"Season\", \"Age\", \"Disease\", \"Accident\", \"Surgery\", \"Feaver\", \"Alcohol_consumption\", \"Smoking\", \"Siting\", \"Output\"]], diag_kind=\"kde\")"
      ],
      "execution_count": 87,
      "outputs": []
    },
    {
      "cell_type": "code",
      "metadata": {
        "id": "hBec6WdmiSvJ"
      },
      "source": [
        "train_labels = train_dataset.pop('Output')\r\n",
        "test_labels = test_dataset.pop('Output')\r\n",
        "\r\n",
        "def build_model():\r\n",
        "  model = keras.Sequential([\r\n",
        "    layers.Dense(64, activation='relu', input_shape=[len(train_dataset.keys())]),\r\n",
        "    layers.Dense(32, activation='relu'),\r\n",
        "    layers.Dense(16, activation='relu'),\r\n",
        "    layers.Dense(1)\r\n",
        "  ])\r\n",
        "\r\n",
        "  optimizer = tf.keras.optimizers.RMSprop(0.001)\r\n",
        "\r\n",
        "  model.compile(loss='binary_crossentropy',\r\n",
        "                optimizer=optimizer,\r\n",
        "                metrics=['accuracy'])\r\n",
        "  return model\r\n",
        "  \r\n",
        "model = build_model()"
      ],
      "execution_count": 88,
      "outputs": []
    },
    {
      "cell_type": "code",
      "metadata": {
        "colab": {
          "base_uri": "https://localhost:8080/"
        },
        "id": "IFWuif2RjR9H",
        "outputId": "06cea77f-d7d8-4a3e-8639-02a24eafde7f"
      },
      "source": [
        "EPOCHS = 10\r\n",
        "model.fit(train_dataset, train_labels, \r\n",
        "                    epochs=EPOCHS)"
      ],
      "execution_count": 89,
      "outputs": [
        {
          "output_type": "stream",
          "text": [
            "Epoch 1/10\n",
            "3/3 [==============================] - 1s 4ms/step - loss: 4.1704 - accuracy: 0.1352\n",
            "Epoch 2/10\n",
            "3/3 [==============================] - 0s 3ms/step - loss: 1.2585 - accuracy: 0.1648\n",
            "Epoch 3/10\n",
            "3/3 [==============================] - 0s 3ms/step - loss: 1.0480 - accuracy: 0.1859\n",
            "Epoch 4/10\n",
            "3/3 [==============================] - 0s 4ms/step - loss: 0.8892 - accuracy: 0.3195\n",
            "Epoch 5/10\n",
            "3/3 [==============================] - 0s 2ms/step - loss: 0.7375 - accuracy: 0.4711\n",
            "Epoch 6/10\n",
            "3/3 [==============================] - 0s 3ms/step - loss: 0.6231 - accuracy: 0.6008\n",
            "Epoch 7/10\n",
            "3/3 [==============================] - 0s 3ms/step - loss: 0.5331 - accuracy: 0.7375\n",
            "Epoch 8/10\n",
            "3/3 [==============================] - 0s 3ms/step - loss: 0.4785 - accuracy: 0.7352\n",
            "Epoch 9/10\n",
            "3/3 [==============================] - 0s 3ms/step - loss: 0.4373 - accuracy: 0.8391\n",
            "Epoch 10/10\n",
            "3/3 [==============================] - 0s 3ms/step - loss: 0.3935 - accuracy: 0.8609\n"
          ],
          "name": "stdout"
        },
        {
          "output_type": "execute_result",
          "data": {
            "text/plain": [
              "<tensorflow.python.keras.callbacks.History at 0x7f2d2fead400>"
            ]
          },
          "metadata": {
            "tags": []
          },
          "execution_count": 89
        }
      ]
    },
    {
      "cell_type": "code",
      "metadata": {
        "colab": {
          "base_uri": "https://localhost:8080/"
        },
        "id": "7kwHSV4uidkt",
        "outputId": "acc31d0c-8e0e-44a1-880e-34b658b286d3"
      },
      "source": [
        "loss, accuracy = model.evaluate(test_dataset, test_labels, verbose=2)\r\n",
        "\r\n",
        "print(\"Testing set Mean Abs Error: {:5.2f} output\".format(accuracy))"
      ],
      "execution_count": 93,
      "outputs": [
        {
          "output_type": "stream",
          "text": [
            "1/1 - 0s - loss: 0.2964 - accuracy: 0.9000\n",
            "Testing set Mean Abs Error:  0.90 output\n"
          ],
          "name": "stdout"
        }
      ]
    },
    {
      "cell_type": "code",
      "metadata": {
        "id": "_Hi0oBV1zdHS",
        "colab": {
          "base_uri": "https://localhost:8080/"
        },
        "outputId": "cb46c2dd-a890-4696-8f5e-81ae63692e16"
      },
      "source": [
        "test_predictions = model.predict(test_dataset).flatten()\r\n",
        "\r\n"
      ],
      "execution_count": 94,
      "outputs": [
        {
          "output_type": "stream",
          "text": [
            "WARNING:tensorflow:8 out of the last 8 calls to <function Model.make_predict_function.<locals>.predict_function at 0x7f2d2b48c598> triggered tf.function retracing. Tracing is expensive and the excessive number of tracings could be due to (1) creating @tf.function repeatedly in a loop, (2) passing tensors with different shapes, (3) passing Python objects instead of tensors. For (1), please define your @tf.function outside of the loop. For (2), @tf.function has experimental_relax_shapes=True option that relaxes argument shapes that can avoid unnecessary retracing. For (3), please refer to https://www.tensorflow.org/guide/function#controlling_retracing and https://www.tensorflow.org/api_docs/python/tf/function for  more details.\n"
          ],
          "name": "stdout"
        }
      ]
    },
    {
      "cell_type": "code",
      "metadata": {
        "colab": {
          "base_uri": "https://localhost:8080/"
        },
        "id": "XURYmB_Z0LgS",
        "outputId": "e6aea79a-4633-40c6-876a-04a877647780"
      },
      "source": [
        "test_predictions = pd.Series(test_predictions)\r\n",
        "for i in range(20):\r\n",
        "\r\n",
        "  print(test_predictions.iloc[i])\r\n",
        "  print(test_labels.iloc[i])"
      ],
      "execution_count": 96,
      "outputs": [
        {
          "output_type": "stream",
          "text": [
            "0.5353736\n",
            "1\n",
            "1.0300598\n",
            "1\n",
            "0.4241863\n",
            "1\n",
            "0.5322399\n",
            "1\n",
            "1.061925\n",
            "1\n",
            "1.026437\n",
            "1\n",
            "0.79377466\n",
            "1\n",
            "0.8789903\n",
            "1\n",
            "0.6953784\n",
            "1\n",
            "0.7449492\n",
            "1\n",
            "0.73360085\n",
            "1\n",
            "0.8001872\n",
            "1\n",
            "0.8192709\n",
            "1\n",
            "0.8191944\n",
            "1\n",
            "0.72663075\n",
            "0\n",
            "1.1437953\n",
            "1\n",
            "1.0833457\n",
            "1\n",
            "1.0365657\n",
            "1\n",
            "1.0469787\n",
            "1\n",
            "0.5661692\n",
            "1\n"
          ],
          "name": "stdout"
        }
      ]
    },
    {
      "cell_type": "code",
      "metadata": {
        "colab": {
          "base_uri": "https://localhost:8080/",
          "height": 283
        },
        "id": "mz5XXV_r377r",
        "outputId": "0a826569-3297-477c-f71b-f5cbbc180ce6"
      },
      "source": [
        "a = plt.axes(aspect='equal')\r\n",
        "plt.scatter(test_labels, test_predictions)\r\n",
        "plt.xlabel('True values (output)')\r\n",
        "plt.ylabel('Predictions (output)')\r\n",
        "lims = [0, 2]\r\n",
        "plt.xlim(lims)\r\n",
        "plt.ylim(lims)\r\n",
        "_ = plt.plot(lims,lims)"
      ],
      "execution_count": 97,
      "outputs": [
        {
          "output_type": "display_data",
          "data": {
            "image/png": "[encoded data removed]",
            "text/plain": [
              "<Figure size 432x288 with 1 Axes>"
            ]
          },
          "metadata": {
            "tags": [],
            "needs_background": "light"
          }
        }
      ]
    }
  ]
}